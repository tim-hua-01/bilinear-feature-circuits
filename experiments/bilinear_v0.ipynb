{
 "cells": [
  {
   "cell_type": "markdown",
   "id": "ca01b01e-8870-4b05-87c4-4b21189d9866",
   "metadata": {},
   "source": [
    "# First attempt at getting the bilinear models to work with this package"
   ]
  },
  {
   "cell_type": "code",
   "execution_count": 1,
   "id": "61cd9cd6-fe10-4a0b-bbc3-3538b7696c32",
   "metadata": {},
   "outputs": [],
   "source": [
    "from huggingface_hub import hf_hub_download, login"
   ]
  },
  {
   "cell_type": "code",
   "execution_count": 2,
   "id": "0d3fe51d-e27e-48f4-a8f4-a37d6914e914",
   "metadata": {},
   "outputs": [
    {
     "data": {
      "application/vnd.jupyter.widget-view+json": {
       "model_id": "799a35c91f5c44c1a7fe9ef3493f4cff",
       "version_major": 2,
       "version_minor": 0
      },
      "text/plain": [
       "VBox(children=(HTML(value='<center> <img\\nsrc=https://huggingface.co/front/assets/huggingface_logo-noborder.sv…"
      ]
     },
     "metadata": {},
     "output_type": "display_data"
    }
   ],
   "source": [
    "login()"
   ]
  },
  {
   "cell_type": "code",
   "execution_count": null,
   "id": "8a624f70-e6fd-4d86-a688-3d7e8006f73e",
   "metadata": {},
   "outputs": [],
   "source": []
  }
 ],
 "metadata": {
  "kernelspec": {
   "display_name": "Python 3 (ipykernel)",
   "language": "python",
   "name": "python3"
  },
  "language_info": {
   "codemirror_mode": {
    "name": "ipython",
    "version": 3
   },
   "file_extension": ".py",
   "mimetype": "text/x-python",
   "name": "python",
   "nbconvert_exporter": "python",
   "pygments_lexer": "ipython3",
   "version": "3.11.10"
  }
 },
 "nbformat": 4,
 "nbformat_minor": 5
}
